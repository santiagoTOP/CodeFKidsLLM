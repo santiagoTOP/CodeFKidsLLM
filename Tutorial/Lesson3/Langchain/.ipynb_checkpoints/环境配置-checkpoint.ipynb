{
 "cells": [
  {
   "cell_type": "markdown",
   "id": "debf73e2922798c0",
   "metadata": {},
   "source": [
    "## 安装环境依赖"
   ]
  },
  {
   "cell_type": "code",
   "execution_count": null,
   "id": "884e9325fa51787b",
   "metadata": {},
   "outputs": [],
   "source": [
    "# 升级pip\n",
    "# python -m pip install --upgrade pip\n",
    "\n",
    "# pip install modelscope==1.9.5\n",
    "# pip install transformers==4.35.2\n",
    "# pip install streamlit==1.24.0\n",
    "# pip install sentencepiece==0.1.99\n",
    "# pip install accelerate==0.24.1"
   ]
  },
  {
   "cell_type": "markdown",
   "id": "3020a5b649b6a6e7",
   "metadata": {},
   "source": [
    "### Langchain依赖"
   ]
  },
  {
   "cell_type": "code",
   "execution_count": null,
   "id": "18b0cfecf3a7b44d",
   "metadata": {},
   "outputs": [],
   "source": [
    "# pip install langchain==0.0.292\n",
    "# pip install gradio==4.4.0\n",
    "# pip install chromadb==0.4.15\n",
    "# pip install sentence-transformers==2.2.2\n",
    "# pip install unstructured==0.10.30\n",
    "# pip install markdown==3.3.7"
   ]
  },
  {
   "cell_type": "markdown",
   "id": "d29e77f06ba7c9c9",
   "metadata": {},
   "source": [
    "### 安装Sentence Transformer 开源词向量模型"
   ]
  },
  {
   "cell_type": "code",
   "execution_count": 1,
   "id": "f75f52d6b60631d9",
   "metadata": {
    "ExecuteTime": {
     "end_time": "2024-04-08T02:09:18.375545Z",
     "start_time": "2024-04-08T02:09:18.020482Z"
    }
   },
   "outputs": [
    {
     "data": {
      "text/plain": [
       "2"
      ]
     },
     "execution_count": 1,
     "metadata": {},
     "output_type": "execute_result"
    }
   ],
   "source": [
    "# pip install -U huggingface_hub\n",
    "\n",
    "import os\n",
    "\n",
    "# 下载模型\n",
    "os.system('huggingface-cli download --resume-download sentence-transformers/paraphrase-multilingual-MiniLM-L12-v2 --local-dir /root/data/model/sentence-transformer')"
   ]
  },
  {
   "cell_type": "markdown",
   "id": "98ace7899913f0de",
   "metadata": {},
   "source": [
    "### 下载 NLTK 相关资源"
   ]
  },
  {
   "cell_type": "code",
   "execution_count": null,
   "id": "a9b530907605b984",
   "metadata": {},
   "outputs": [],
   "source": [
    "# cd /root\n",
    "# git clone https://gitee.com/yzy0612/nltk_data.git  --branch gh-pages\n",
    "# cd nltk_data\n",
    "# mv packages/*  ./\n",
    "# cd tokenizers\n",
    "# unzip punkt.zip\n",
    "# cd ../taggers\n",
    "# unzip averaged_perceptron_tagger.zip"
   ]
  },
  {
   "cell_type": "markdown",
   "id": "38c982f0c6a51a4",
   "metadata": {},
   "source": [
    "### 数据收集"
   ]
  },
  {
   "cell_type": "code",
   "execution_count": null,
   "id": "7bd98dc78fabd766",
   "metadata": {},
   "outputs": [],
   "source": [
    "# 进入到数据库盘\n",
    "# cd /root/data\n",
    "# clone 上述开源仓库\n",
    "# git clone https://gitee.com/open-compass/opencompass.git\n",
    "# git clone https://gitee.com/InternLM/lmdeploy.git\n",
    "# git clone https://gitee.com/InternLM/xtuner.git\n",
    "# git clone https://gitee.com/InternLM/InternLM-XComposer.git\n",
    "# git clone https://gitee.com/InternLM/lagent.git\n",
    "# git clone https://gitee.com/InternLM/InternLM.git"
   ]
  },
  {
   "cell_type": "markdown",
   "id": "66a5c96e1adc4b75",
   "metadata": {},
   "source": [
    "langchain教程 https://github.com/InternLM/tutorial/tree/main/langchain"
   ]
  }
 ],
 "metadata": {
  "kernelspec": {
   "display_name": "Python 3 (ipykernel)",
   "language": "python",
   "name": "python3"
  },
  "language_info": {
   "codemirror_mode": {
    "name": "ipython",
    "version": 3
   },
   "file_extension": ".py",
   "mimetype": "text/x-python",
   "name": "python",
   "nbconvert_exporter": "python",
   "pygments_lexer": "ipython3",
   "version": "3.11.5"
  }
 },
 "nbformat": 4,
 "nbformat_minor": 5
}
