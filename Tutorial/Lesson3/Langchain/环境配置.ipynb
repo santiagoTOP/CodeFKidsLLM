{
 "cells": [
  {
   "cell_type": "markdown",
   "source": [
    "## 安装环境依赖"
   ],
   "metadata": {
    "collapsed": false
   },
   "id": "debf73e2922798c0"
  },
  {
   "cell_type": "code",
   "outputs": [],
   "source": [
    "# 升级pip\n",
    "# python -m pip install --upgrade pip\n",
    "\n",
    "# pip install modelscope==1.9.5\n",
    "# pip install transformers==4.35.2\n",
    "# pip install streamlit==1.24.0\n",
    "# pip install sentencepiece==0.1.99\n",
    "# pip install accelerate==0.24.1"
   ],
   "metadata": {
    "collapsed": false
   },
   "id": "884e9325fa51787b"
  },
  {
   "cell_type": "markdown",
   "source": [
    "### Langchain依赖"
   ],
   "metadata": {
    "collapsed": false
   },
   "id": "3020a5b649b6a6e7"
  },
  {
   "cell_type": "code",
   "outputs": [],
   "source": [
    "# pip install langchain==0.0.292\n",
    "# pip install gradio==4.4.0\n",
    "# pip install chromadb==0.4.15\n",
    "# pip install sentence-transformers==2.2.2\n",
    "# pip install unstructured==0.10.30\n",
    "# pip install markdown==3.3.7"
   ],
   "metadata": {
    "collapsed": false
   },
   "id": "18b0cfecf3a7b44d"
  },
  {
   "cell_type": "markdown",
   "source": [
    "### 安装Sentence Transformer 开源词向量模型"
   ],
   "metadata": {
    "collapsed": false
   },
   "id": "d29e77f06ba7c9c9"
  },
  {
   "cell_type": "code",
   "outputs": [],
   "source": [
    "# pip install -U huggingface_hub\n",
    "\n",
    "import os\n",
    "\n",
    "# 下载模型\n",
    "os.system('huggingface-cli download --resume-download sentence-transformers/paraphrase-multilingual-MiniLM-L12-v2 --local-dir /root/data/model/sentence-transformer')"
   ],
   "metadata": {
    "collapsed": false
   },
   "id": "f75f52d6b60631d9"
  },
  {
   "cell_type": "markdown",
   "source": [
    "### 下载 NLTK 相关资源"
   ],
   "metadata": {
    "collapsed": false
   },
   "id": "98ace7899913f0de"
  },
  {
   "cell_type": "code",
   "outputs": [],
   "source": [
    "# cd /root\n",
    "# git clone https://gitee.com/yzy0612/nltk_data.git  --branch gh-pages\n",
    "# cd nltk_data\n",
    "# mv packages/*  ./\n",
    "# cd tokenizers\n",
    "# unzip punkt.zip\n",
    "# cd ../taggers\n",
    "# unzip averaged_perceptron_tagger.zip"
   ],
   "metadata": {
    "collapsed": false
   },
   "id": "a9b530907605b984"
  },
  {
   "cell_type": "markdown",
   "source": [
    "### 数据收集"
   ],
   "metadata": {
    "collapsed": false
   },
   "id": "38c982f0c6a51a4"
  },
  {
   "cell_type": "code",
   "outputs": [],
   "source": [
    "# 进入到数据库盘\n",
    "# cd /root/data\n",
    "# clone 上述开源仓库\n",
    "# git clone https://gitee.com/open-compass/opencompass.git\n",
    "# git clone https://gitee.com/InternLM/lmdeploy.git\n",
    "# git clone https://gitee.com/InternLM/xtuner.git\n",
    "# git clone https://gitee.com/InternLM/InternLM-XComposer.git\n",
    "# git clone https://gitee.com/InternLM/lagent.git\n",
    "# git clone https://gitee.com/InternLM/InternLM.git"
   ],
   "metadata": {
    "collapsed": false
   },
   "id": "7bd98dc78fabd766"
  },
  {
   "cell_type": "markdown",
   "source": [
    "langchain教程 https://github.com/InternLM/tutorial/tree/main/langchain"
   ],
   "metadata": {
    "collapsed": false
   },
   "id": "66a5c96e1adc4b75"
  }
 ],
 "metadata": {
  "kernelspec": {
   "display_name": "Python 3",
   "language": "python",
   "name": "python3"
  },
  "language_info": {
   "codemirror_mode": {
    "name": "ipython",
    "version": 2
   },
   "file_extension": ".py",
   "mimetype": "text/x-python",
   "name": "python",
   "nbconvert_exporter": "python",
   "pygments_lexer": "ipython2",
   "version": "2.7.6"
  }
 },
 "nbformat": 4,
 "nbformat_minor": 5
}
